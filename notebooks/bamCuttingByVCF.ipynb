{
 "cells": [
  {
   "cell_type": "code",
   "execution_count": 40,
   "metadata": {},
   "outputs": [],
   "source": [
    "import argparse\n",
    "import vcf\n",
    "import os\n",
    "import glob\n",
    "import time"
   ]
  },
  {
   "cell_type": "code",
   "execution_count": 20,
   "metadata": {},
   "outputs": [],
   "source": [
    "## parse args\n",
    "description =['reduce a bam file acording to vcf file']\n",
    "if True:\n",
    "    parser = argparse.ArgumentParser(description= description[0])\n",
    "    parser.add_argument('-b','--bamfile',required=True,help='input bam file')\n",
    "    parser.add_argument('-v','--vcffile', help='input vcf file to be usde for filtering coordinates', required=True)\n",
    "    parser.add_argument('-o','--outpath',required=True)\n",
    "    parser.add_argument('-p','--prefix',dest = 'prefix',default = '',required = False)\n",
    "    parser.add_argument('-d','--delta',required = False, default = 500)\n",
    "\n",
    "    args = parser.parse_args()\n",
    "    bamfile = args.bamfile\n",
    "    vcffile = args.vcffile\n",
    "    outpath = args.outpath\n",
    "    prefix = args.prefix\n",
    "    delta = args.delta\n",
    "else:\n",
    "    bamfile = './high-homozygosis.vcf'\n",
    "    vcfile = '1A-mindp20'\n",
    "    outpath = './'  \n",
    "    prefix = 'shortBam-CEDIE1A'\n",
    "    delta = 500    \n",
    "\n",
    "#bamfile = '/home/ariel/Projects/Gutierrez/CEDIE/201803/bamfiles/chr2-190-192k.bam'\n",
    "#vcfile = '/home/ariel/Projects/Gutierrez/CEDIE/201803/annot/CEDIE1A_minDP20_final_annot.vcf'\n",
    "#vcfile = '/home/ariel/test.vcf'\n",
    "\n",
    "\n"
   ]
  },
  {
   "cell_type": "code",
   "execution_count": 27,
   "metadata": {
    "collapsed": true
   },
   "outputs": [],
   "source": [
    "# create output dir\n",
    "\n",
    "if not os.path.isdir(outpath):\n",
    "    os.system('mkdir %s'%outpath)\n",
    "\n",
    "t1 = time.time()\n",
    "k = 0 \n",
    "for rec in vcf.Reader(open(vcffile)):\n",
    "    ch,pos =  rec.CHROM, rec.POS\n",
    "    #if ch!=2:\n",
    "    #    continue\n",
    "    start=pos - delta\n",
    "    end = pos + delta\n",
    "    tempfile = '%s%s_%s.temp'%(outpath,prefix,k)\n",
    "    runsamtools = 'samtools view %s -b %s:%s-%s > %s'%(bamfile,ch,start,end,tempfile)\n",
    "    #print runsamtools\n",
    "    os.system(runsamtools)\n",
    "    k = k+1\n",
    "\n"
   ]
  },
  {
   "cell_type": "code",
   "execution_count": 39,
   "metadata": {},
   "outputs": [
    {
     "data": {
      "text/plain": [
       "0"
      ]
     },
     "execution_count": 39,
     "metadata": {},
     "output_type": "execute_result"
    }
   ],
   "source": [
    "pattern = outpath+prefix+'*.temp'    \n",
    "tempfiles = glob.glob(pattern)\n",
    "tojoin = ' '.join(tempfiles)\n",
    "\n",
    "mergebamfile = outpath+prefix+'_merged.bam'\n",
    "runmerge = 'samtools merge %s %s'%(mergebamfile,tojoin)\n",
    "print runmerge\n",
    "os.system(runmerge)\n",
    "os.system('rm %s'%tojoin)\n",
    "\n",
    "deltatime= time.time()-t1\n",
    "print '%s variats proceced'%k\n",
    "print 'ranged extracted: +/- %s bases around each variant'%delta\n",
    "print 'elapsed time : %s'%deltatime"
   ]
  },
  {
   "cell_type": "code",
   "execution_count": 43,
   "metadata": {},
   "outputs": [
    {
     "data": {
      "text/plain": [
       "8.421835"
      ]
     },
     "execution_count": 43,
     "metadata": {},
     "output_type": "execute_result"
    }
   ],
   "source": [
    "time.clock()"
   ]
  },
  {
   "cell_type": "code",
   "execution_count": 48,
   "metadata": {},
   "outputs": [
    {
     "data": {
      "text/plain": [
       "1523476382.210131"
      ]
     },
     "execution_count": 48,
     "metadata": {},
     "output_type": "execute_result"
    }
   ],
   "source": [
    "time.time()"
   ]
  },
  {
   "cell_type": "code",
   "execution_count": null,
   "metadata": {},
   "outputs": [],
   "source": []
  }
 ],
 "metadata": {
  "kernelspec": {
   "display_name": "Python 2",
   "language": "python",
   "name": "python2"
  },
  "language_info": {
   "codemirror_mode": {
    "name": "ipython",
    "version": 2
   },
   "file_extension": ".py",
   "mimetype": "text/x-python",
   "name": "python",
   "nbconvert_exporter": "python",
   "pygments_lexer": "ipython2",
   "version": "2.7.12"
  }
 },
 "nbformat": 4,
 "nbformat_minor": 2
}
