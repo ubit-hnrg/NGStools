{
 "cells": [
  {
   "cell_type": "code",
   "execution_count": 3,
   "metadata": {},
   "outputs": [],
   "source": [
    "import pandas as pd\n",
    "import re\n",
    "import subprocess\n",
    "import os\n",
    "import argparse"
   ]
  },
  {
   "cell_type": "code",
   "execution_count": 4,
   "metadata": {},
   "outputs": [],
   "source": [
    "description = ['This script convert vcf files into tsv by using vcf2tsv script in vcflib \\n \\\n",
    "Vcf2tsv fails to conver flags features that dont have explicetly equal the symbol \\n \\\n",
    "This script first add a number 1 to these flags .Also a report in tsv format is \\n \\\n",
    "incuded for describing all features in INFO field']\n",
    "\n",
    "if (True):\n",
    "    parser = argparse.ArgumentParser(description= description[0])\n",
    "    parser.add_argument('-i','--inputfile',required=True,help='file.vcf as input')\n",
    "    parser.add_argument('-o','--outprefix', help='prefit to be used in output and feature description tsv files', required=True)\n",
    "    parser.add_argument('-x','--xls', dest='xls', action='store_true')\n",
    "    parser.set_defaults(xls=False)\n",
    "    \n",
    "    #parser.add_argument('--no-feature', dest='feature', action='store_false')\n",
    "\n",
    "    #parser.add_argument('-x','--xls',required=False,,default = False, help='Boolean if you want to save outputs in xls format too. ssconvert of gnumeric package is required. Default False')\n",
    "    \n",
    "                                 \n",
    "    args = parser.parse_args()\n",
    "    ifile = args.inputfile\n",
    "    prefix = args.outprefix\n",
    "    xls=args.xls\n",
    "    \n",
    "else:\n",
    "    ifile = './high-homozygosis.vcf'\n",
    "    prefix = '1A-mindp20'                                 \n",
    "    xls = False              \n",
    "        \n",
    "outfile = prefix +'.tsv'\n",
    "infofile = 'INFO'+prefix+'.tsv' "
   ]
  },
  {
   "cell_type": "code",
   "execution_count": 5,
   "metadata": {},
   "outputs": [
    {
     "name": "stdout",
     "output_type": "stream",
     "text": [
      "PARSING HEADER\n"
     ]
    }
   ],
   "source": [
    "print 'PARSING HEADER'\n",
    "nl = 0\n",
    "with open(ifile) as f:\n",
    "    Ids =[];Number=[];Type=[];Description=[]\n",
    "    for line in f:\n",
    "        nl = nl+1    \n",
    "        if (nl> 1000):\n",
    "            break\n",
    "        if re.match(r'(##INFO)', line):\n",
    "            field = line.split(',')\n",
    "            fields = field[0:3]+[''.join(field[3:]).strip('\\n>')]\n",
    "            if(len(fields)!=4):\n",
    "                print 'warning!'\n",
    "\n",
    "            Ids.append(fields[0].split('=')[-1])\n",
    "            Number.append(fields[1].split('=')[-1])\n",
    "            Type.append(fields[2].split('=')[-1])\n",
    "            Description.append(fields[3].split('=')[-1])\n",
    "\n",
    "# you may also want to remove whitespace characters like `\\n` at the end of each line\n",
    "#content = [x.strip() for x in content] "
   ]
  },
  {
   "cell_type": "code",
   "execution_count": null,
   "metadata": {},
   "outputs": [],
   "source": [
    "info = pd.DataFrame({'Id':Ids,'Number':Number,'Type':Type,'Description':Description})\n",
    "info = info[['Id','Number','Type','Description']]\n",
    "info.to_csv(infofile,index = False,sep ='\\t')\n",
    "print 'info fields parsed'\n",
    "print 'there are %s INFO features'%info.shape[0]\n",
    "\n"
   ]
  },
  {
   "cell_type": "code",
   "execution_count": 97,
   "metadata": {},
   "outputs": [],
   "source": [
    "print 'backup of input vcf'\n",
    "\n",
    "flagedfile = 'flaged_%s.vcf'%prefix\n",
    "\n",
    "#make a sequtity copy\n",
    "os.system('cp %s %s'%(ifile,flagedfile))\n",
    "\n",
    "\n",
    "#define flag features (boolean columns in the final tsv file)\n",
    "flags = info[info.Type=='Flag'].Id\n",
    "print 'fixing vcf file (FLAG fields) before to change format'\n",
    "\n",
    "for fl in flags:\n",
    "    ##reemplazo flags dentro de INFO    \n",
    "\n",
    "    os.system(\"sed -i -e 's/;%s;/;%s=1;/g' %s\"%(fl,fl,flagedfile)) \n",
    "    #reemplazo flags que son el último campo de INFO\n",
    "    os.system(\"sed -i -e 's/;%s\\t/;%s=1\\t/g' %s\"%(fl,fl,flagedfile)) \n",
    "   \n",
    "\n",
    "print 'excecuting vcf2tsv - vcflib'\n",
    "#ejecuto vcf2tsv de vcflib\n",
    "os.system('vcf2tsv %s > %s'%(flagedfile,outfile))\n",
    "    "
   ]
  },
  {
   "cell_type": "code",
   "execution_count": null,
   "metadata": {},
   "outputs": [],
   "source": [
    "# CONVERT OUTPUTS TO xls in two sheets"
   ]
  },
  {
   "cell_type": "code",
   "execution_count": null,
   "metadata": {},
   "outputs": [],
   "source": [
    "print 'Saving into xls file'\n",
    "if xls: \n",
    "    os.system('ssconvert --merge-to %s.xls %s %s'%(prefix,outfile,ifile))"
   ]
  },
  {
   "cell_type": "code",
   "execution_count": null,
   "metadata": {},
   "outputs": [],
   "source": [
    "#\"vcffilter -f 'SNPEFF_IMPACT = HIGH & HOM' CEDIE1A_minDP20_final_annot.vcf > high-homozygosis.vcf \"\n",
    "#bcftools query --print-header -f %s /home/ariel/Projects/Gutierrez/CEDIE/201803/annot/high-homozygosis.vcf > all_info.table\"%tabIds\n",
    "\n",
    "#subprocess.call(['sed','-i','-e','%s'%pattern,'%s'%flagedfile]) # no me esta funcando este por ahora\n",
    "    \n",
    "#tabIds=\"'[\\\\t%\"+'\\\\t%'.join(flags)+\"]\\\\n'\"\n",
    "#print tabIds\n"
   ]
  }
 ],
 "metadata": {
  "kernelspec": {
   "display_name": "Python 2",
   "language": "python",
   "name": "python2"
  },
  "language_info": {
   "codemirror_mode": {
    "name": "ipython",
    "version": 2
   },
   "file_extension": ".py",
   "mimetype": "text/x-python",
   "name": "python",
   "nbconvert_exporter": "python",
   "pygments_lexer": "ipython2",
   "version": "2.7.12"
  }
 },
 "nbformat": 4,
 "nbformat_minor": 2
}
