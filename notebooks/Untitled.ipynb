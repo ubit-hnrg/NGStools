{
 "cells": [
  {
   "cell_type": "code",
   "execution_count": 1,
   "metadata": {},
   "outputs": [
    {
     "name": "stderr",
     "output_type": "stream",
     "text": [
      "/usr/local/lib/python2.7/dist-packages/IPython/core/interactiveshell.py:2718: DtypeWarning: Columns (0) have mixed types. Specify dtype option on import or set low_memory=False.\n",
      "  interactivity=interactivity, compiler=compiler, result=result)\n"
     ]
    }
   ],
   "source": [
    "import pandas as pd\n",
    "\n",
    "# grep -v \"^#\" CEDIE1A.vcf | awk '{if ($2 > 10) print $1, $2, $2+1;  else print $1, 0, $2+1; }' |tr ' ' '\\t' > CEDIE1A.vcf.bed\n",
    "#run = 'coverageBed -a CEDIE1A.vcf.bed -b ~/Dropbox/UBIT/casos/caso1BZ/agilent_region.bed >testcov.tsv'\n",
    "#os.system(run)\n",
    "coverage = pd.read_table('/home/ariel/Projects/Gutierrez/CEDIE/201803/vcfs/testcov.tsv',header = None)"
   ]
  },
  {
   "cell_type": "code",
   "execution_count": 16,
   "metadata": {},
   "outputs": [
    {
     "data": {
      "text/plain": [
       "0.0    563226\n",
       "1.0     55319\n",
       "Name: 6, dtype: int64"
      ]
     },
     "execution_count": 16,
     "metadata": {},
     "output_type": "execute_result"
    }
   ],
   "source": [
    "coverage.ix[:,6].value_counts()"
   ]
  },
  {
   "cell_type": "code",
   "execution_count": 17,
   "metadata": {},
   "outputs": [],
   "source": [
    "from pyensembl import EnsemblRelease as ensbl\n",
    "import pandas as pd\n",
    "ensemble_version = 75\n",
    "data = ensbl(ensemble_version)\n"
   ]
  },
  {
   "cell_type": "code",
   "execution_count": 52,
   "metadata": {},
   "outputs": [
    {
     "name": "stdout",
     "output_type": "stream",
     "text": [
      "[56602]\n"
     ]
    }
   ],
   "source": [
    "def get_bed_locus_info_from_gene_name(gene):\n",
    "    exon = data.exon_ids_of_gene_name('STAT1')\n",
    "    exonLocus = [data.locus_of_exon_id(e) for e in exon]\n",
    "\n",
    "    elen =  [(e.to_dict()['start'],e.to_dict()['end']) for e in exonLocus]\n",
    "\n",
    "    whole_gen = data.loci_of_gene_names('STAT1')\n",
    "    whole_gen_len = [whole_gen[0].to_dict()['end']-whole_gen[0].to_dict()['start']]\n"
   ]
  },
  {
   "cell_type": "code",
   "execution_count": 86,
   "metadata": {},
   "outputs": [
    {
     "name": "stderr",
     "output_type": "stream",
     "text": [
      "ERROR:root:Line magic function `%del` not found.\n"
     ]
    }
   ],
   "source": [
    "#get_locis(['STAT1','STAT4'],ref = 37,outpath='./',write_bedfile=True)\n",
    "%del gen"
   ]
  },
  {
   "cell_type": "code",
   "execution_count": 57,
   "metadata": {},
   "outputs": [],
   "source": [
    "def get_locis(genelist,ref,outpath,write_bedfile = True):\n",
    "    analyzed_genes = []\n",
    "    try:\n",
    "        if (ref == 37)|(ref == 19):\n",
    "            ensemble_version = 75\n",
    "    except:\n",
    "        'You must to install the ensemble version 75, please run \\n'        \n",
    "        'pyensembl install --release 75 --species homo_sapiens \\n'\n",
    "    try:\n",
    "        if ref == 38:\n",
    "            ensemble_version = 87\n",
    "    except:\n",
    "        'You must to install latest ensemble version (87), please run \\n'        \n",
    "        'pyensembl install --release 87 --species homo_sapiens \\n'\n",
    "        \n",
    "    data = ensbl(ensemble_version)\n",
    "\n",
    "    ############ By the whole Gene #############\n",
    "    locis = []\n",
    "    for gen in genelist:\n",
    "        try:\n",
    "            loc =  data.loci_of_gene_names(gen)\n",
    "            locis.append(loc[0].to_dict())\n",
    "            analyzed_genes.append(gen)\n",
    "        except:\n",
    "            print 'warning, gen %s was not found and ignored'%gen\n",
    "#    return pd.concat(locis)\n",
    "    print '\\n'\n",
    "    ggenes = analyzed_genes\n",
    "    \n",
    "    locis = pd.DataFrame(locis)\n",
    "    locis['name'] = ggenes\n",
    "    locis.rename(columns = {'contig':'chrom'},inplace = True)\n",
    "    locis['score'] = 0 ## this is only for completness, in order to recognize strand as the right next field\n",
    "    locis = locis[['chrom','start','end','name','score','strand']]\n",
    "    \n",
    "    # write file\n",
    "    bedfile = outpath+'gene_loci.bed'\n",
    "    if write_bedfile:\n",
    "        locis.to_csv(bedfile,sep = '\\t',index = False,header = None)    \n",
    "\n",
    "        \n",
    "    return locis, bedfile, locis.columns\n",
    "\n"
   ]
  },
  {
   "cell_type": "code",
   "execution_count": 10,
   "metadata": {},
   "outputs": [],
   "source": [
    "import sys"
   ]
  },
  {
   "cell_type": "code",
   "execution_count": 19,
   "metadata": {},
   "outputs": [],
   "source": [
    "from pyensembl import EnsemblRelease as ensbl\n",
    "def get_exons(genelist,ref,outpath,write_bedfile = True):\n",
    "    analyzed_genes = []\n",
    "    try:\n",
    "        if (ref == 37)|(ref == 19):\n",
    "            ensemble_version = 75\n",
    "    except:\n",
    "        'You must to install the ensemble version 75, please run \\n'        \n",
    "        'pyensembl install --release 75 --species homo_sapiens \\n'\n",
    "    try:\n",
    "        if ref == 38:\n",
    "            ensemble_version = 87\n",
    "    except:\n",
    "        'You must to install latest ensemble version (87), please run \\n'        \n",
    "        'pyensembl install --release 87 --species homo_sapiens \\n'\n",
    "        \n",
    "    data = ensbl(ensemble_version)\n",
    "    ############ By Exons #############\n",
    "    exonbed = []\n",
    "    for gene in genelist:\n",
    "        try:\n",
    "            exons = data.exon_ids_of_gene_name(gene)\n",
    "            exonLocus = [data.locus_of_exon_id(e) for e in exons]\n",
    "            exonLoci = [ex.to_dict() for ex in exonLocus]\n",
    "            exonLoci = pd.DataFrame(exonLoci)\n",
    "            exonLoci['name'] = exons\n",
    "            exonLoci['gene'] = [gene]*len(exons)\n",
    "            exonLoci.rename(columns = {'contig':'chrom'},inplace = True)\n",
    "            exonLoci['score'] = 0 ## this is only for completness, in order to recognize strand as the right next field\n",
    "            exonLoci = exonLoci[['chrom','start','end','name','score','strand','gene']]\n",
    "            exonbed.append(exonLoci)\n",
    "            analyzed_genes.append(gene)\n",
    "        except:\n",
    "            print 'warning, gene %s was not found and ignored'%gene\n",
    "            sys.exc_info()[0]\n",
    "#    return pd.concat(locis)\n",
    "    print '\\n'\n",
    "    exonbed = pd.concat(exonbed)\n",
    "    \n",
    "    # write file\n",
    "    exonbedfile = outpath+'exons_loci.bed'\n",
    "\n",
    "    if write_bedfile:\n",
    "        exonbed.to_csv(exonbedfile,sep = '\\t',index = False,header = None)\n",
    "    \n",
    "        \n",
    "    return exonbed, exonbedfile, exonbed.columns\n",
    "\n",
    "    \n"
   ]
  },
  {
   "cell_type": "code",
   "execution_count": 20,
   "metadata": {},
   "outputs": [
    {
     "name": "stdout",
     "output_type": "stream",
     "text": [
      "\n",
      "\n"
     ]
    }
   ],
   "source": [
    "bed, bedfile, columns = get_exons(['STAT1','STAT4'],ref = 37,outpath='./',write_bedfile=True)"
   ]
  },
  {
   "cell_type": "code",
   "execution_count": 21,
   "metadata": {},
   "outputs": [],
   "source": [
    " exome_coverage = pd.read_table('./test_output/exons_loci.bed.tsv')"
   ]
  },
  {
   "cell_type": "code",
   "execution_count": 52,
   "metadata": {},
   "outputs": [],
   "source": [
    "exome_report = exome_coverage.groupby(['score'])[['coverage_dp1','len_gen_bp','bp_at_10dp','bp_at_20dp','bp_at_30dp']].sum()\n",
    "rel = exome_report.apply(lambda x:x/float(x['len_gen_bp']),axis = 1).drop([u'len_gen_bp'],axis = 1)\n",
    "exome_report = exome_report[['len_gen_bp']].join(rel)\n",
    "\n"
   ]
  },
  {
   "cell_type": "code",
   "execution_count": 87,
   "metadata": {},
   "outputs": [],
   "source": [
    "def get_locis(genelist,ref,outpath,write_bedfile = True):\n",
    "    analyzed_genes = []\n",
    "    try:\n",
    "        if (ref == 37)|(ref == 19):\n",
    "            ensemble_version = 75\n",
    "    except:\n",
    "        'You must to install the ensemble version 75, please run \\n'        \n",
    "        'pyensembl install --release 75 --species homo_sapiens \\n'\n",
    "    try:\n",
    "        if ref == 38:\n",
    "            ensemble_version = 87\n",
    "    except:\n",
    "        'You must to install latest ensemble version (87), please run \\n'        \n",
    "        'pyensembl install --release 87 --species homo_sapiens \\n'\n",
    "        \n",
    "    data = ensbl(ensemble_version)\n",
    "    locis = []\n",
    "\n",
    "    for gen in genelist:\n",
    "        try:\n",
    "            loc =  data.loci_of_gene_names(gen)\n",
    "            locis.append(loc[0].to_dict())\n",
    "            analyzed_genes.append(gen)\n",
    "        except ValueError:\n",
    "            print 'warning, gen %s was not found and ignored'%gen\n",
    "#    return pd.concat(locis)\n",
    "    print '\\n'\n",
    "    ggenes = analyzed_genes\n",
    "    locis = pd.DataFrame(locis)\n",
    "    locis['name'] = ggenes\n",
    "    locis.rename(columns = {'contig':'chrom'},inplace = True)\n",
    "    locis['score'] = 0 ## this is only for completness, in order to recognize strand as the right next field\n",
    "    locis = locis[['chrom','start','end','name','score','strand']]\n",
    "    \n",
    "    # write file\n",
    "    bedfile = outpath+'gene_loci.bed'\n",
    "    if write_bedfile:\n",
    "        locis.to_csv(bedfile,sep = '\\t',index = False,header = None)\n",
    "        \n",
    "    return locis, bedfile, locis.columns\n"
   ]
  },
  {
   "cell_type": "code",
   "execution_count": 98,
   "metadata": {},
   "outputs": [
    {
     "name": "stdout",
     "output_type": "stream",
     "text": [
      "\n",
      "\n"
     ]
    }
   ],
   "source": [
    "a,b,c =get_locis(['STAT1','STAT3','IGHM'],ref = 37, outpath = './',write_bedfile=False)"
   ]
  },
  {
   "cell_type": "code",
   "execution_count": 58,
   "metadata": {},
   "outputs": [],
   "source": [
    "import mygene\n",
    "from pyensembl import EnsemblRelease as ensbl\n",
    "import pandas as pd\n",
    "\n",
    "\n"
   ]
  },
  {
   "cell_type": "code",
   "execution_count": 79,
   "metadata": {},
   "outputs": [
    {
     "data": {
      "text/plain": [
       "[Locus(contig=14, start=106320349, end=106322323, strand=-),\n",
       " Locus(contig=HG1592_PATCH, start=106320581, end=106322555, strand=-)]"
      ]
     },
     "execution_count": 79,
     "metadata": {},
     "output_type": "execute_result"
    }
   ],
   "source": [
    "data = ensbl(75)\n",
    "ighm =data.loci_of_gene_names('IGHM')#[0].to_dict()\n",
    "#ighm['end']-ighm['start']\n",
    "ighm"
   ]
  },
  {
   "cell_type": "code",
   "execution_count": 70,
   "metadata": {},
   "outputs": [
    {
     "name": "stdout",
     "output_type": "stream",
     "text": [
      "1974\n",
      "1974\n"
     ]
    },
    {
     "data": {
      "text/plain": [
       "{'contig': 'HG1592_PATCH',\n",
       " 'end': 106322555,\n",
       " 'start': 106320581,\n",
       " 'strand': u'-'}"
      ]
     },
     "execution_count": 70,
     "metadata": {},
     "output_type": "execute_result"
    }
   ],
   "source": [
    "ighm1 = data.loci_of_gene_names('IGHM')[0].to_dict()\n",
    "print ighm1['end']-ighm1['start']\n",
    "\n",
    "ighm2 = data.loci_of_gene_names('IGHM')[1].to_dict()\n",
    "print ighm2['end']-ighm2['start']\n",
    "\n",
    "ighm2"
   ]
  },
  {
   "cell_type": "code",
   "execution_count": 92,
   "metadata": {},
   "outputs": [
    {
     "data": {
      "text/plain": [
       "[Gene(gene_id=ENSG00000168610, gene_name=STAT3, biotype=protein_coding, location=17:40465342-40540586)]"
      ]
     },
     "execution_count": 92,
     "metadata": {},
     "output_type": "execute_result"
    }
   ],
   "source": [
    "data.genes_by_name('STAT3')"
   ]
  },
  {
   "cell_type": "code",
   "execution_count": 107,
   "metadata": {},
   "outputs": [
    {
     "name": "stdout",
     "output_type": "stream",
     "text": [
      "[]\n",
      "warning, gene PI3KCD was not found and ignored\n"
     ]
    }
   ],
   "source": [
    "gg = ['PI3KCD']\n",
    "for gen in gg:\n",
    "    gene = gen.strip(' ').replace('-', '')\n",
    "    try:\n",
    "        exons = data.exon_ids_of_gene_name(gene)\n",
    "        exonLocus = [data.locus_of_exon_id(e) for e in exons]\n",
    "        exonLoci = [ex.to_dict() for ex in exonLocus]\n",
    "        exonLoci = pd.DataFrame(exonLoci)\n",
    "        exonLoci['name'] = exons\n",
    "        exonLoci['score'] = [gene]*len(exons)\n",
    "        exonLoci.rename(columns = {'contig':'chrom'},inplace = True)\n",
    "        #exonLoci['score'] = 0 ## this is only for completness, in order to recognize strand as the right next field\n",
    "        exonLoci = exonLoci[['chrom','start','end','name','score','strand']]\n",
    "        exonbed.append(exonLoci)\n",
    "        analyzed_genes.append(gene)\n",
    "    except ValueError:\n",
    "        gene_query = mg.query(gene, size=5,species = 'human')\n",
    "        gids = gene_query['hits']\n",
    "        print  gids\n",
    "        if(len(gids)==0):\n",
    "            print 'warning, gene %s was not found and ignored'%gene \n",
    "            continue\n",
    "        else:\n",
    "            j=0\n",
    "            for i in range(len(gids)): \n",
    "                gid = int(gids[i][u'_id'])\n",
    "                try:\n",
    "                    ensblID = mg.getgene(gid, fields='ensembl',species = 'human')[u'ensembl'] [u'gene']\n",
    "                    trylocus = data.locus_of_gene_id(ensblID)\n",
    "                    break\n",
    "                except ValueError:\n",
    "                    j=j+1\n",
    "                    continue\n",
    "\n",
    "            # check if there was a match \n",
    "            if i == j:\n",
    "                print 'warning, gene %s was not found and ignored'%gene \n",
    "                continue\n",
    "\n",
    "            if len(gids)>1:\n",
    "                print 'warning: more than one mathch with %s'%gene\n",
    "                print 'gen id: %s (ensmbl id %s ) was assumed'%(gid,ensblID)\n",
    "        exons = data.exon_ids_of_gene_id(ensblID)\n"
   ]
  },
  {
   "cell_type": "code",
   "execution_count": 112,
   "metadata": {},
   "outputs": [],
   "source": [
    "#mg.query('PI3KCD', size=5,species = 'human')\n",
    "mg.getgene('PI3KCD', fields='ensembl',species = 'human')#[u'ensembl'] [u'gene']"
   ]
  },
  {
   "cell_type": "code",
   "execution_count": 4,
   "metadata": {},
   "outputs": [],
   "source": [
    "import mygene\n",
    "from pyensembl import EnsemblRelease as ensbl\n",
    "import pandas as pd\n",
    "mg = mygene.MyGeneInfo()\n"
   ]
  },
  {
   "cell_type": "code",
   "execution_count": 21,
   "metadata": {},
   "outputs": [
    {
     "data": {
      "text/plain": [
       "{u'hits': [], u'max_score': None, u'took': 4, u'total': 0}"
      ]
     },
     "execution_count": 21,
     "metadata": {},
     "output_type": "execute_result"
    }
   ],
   "source": [
    "gene_query"
   ]
  },
  {
   "cell_type": "code",
   "execution_count": 33,
   "metadata": {},
   "outputs": [
    {
     "name": "stdout",
     "output_type": "stream",
     "text": [
      "IGHM\n",
      "CD79A\n",
      "CD79B\n",
      "BLNK\n",
      "IGLL1\n",
      "PI3KR1\n",
      "TCF3\n",
      "NFKB1\n",
      "NFKB2\n",
      "IRF2BP2\n",
      "LRBA\n",
      "CTLA4\n",
      "STAT3 \n",
      "TPP2\n",
      "JAK1 \n",
      "CD25\n",
      "BACH2\n",
      "PNP\n",
      "STAT5B\n",
      "DOCK8\n",
      "IL21\n",
      "IL-10\n",
      "IL-10Ra\n",
      "IL-10Rb\n",
      "NFAT5\n",
      "PI3KCD\n"
     ]
    }
   ],
   "source": [
    "genes = pd.read_csv('/home/ariel/Dropbox/UBIT/casos/caso1BZ/Genes-candidatos-CEDIE1A.csv')['Gen'].values\n",
    "entrez = []\n",
    "for g in genes:\n",
    "    print g\n",
    "    gene_query = mg.query(g, size=5,species = 'human')\n",
    "    hits = gene_query['hits']\n",
    "    if len(hits)==0:\n",
    "        entrez.append(g)\n",
    "    else:    \n",
    "        gids = hits[0]\n",
    "        e = gids[u'_id']\n",
    "        if e[0:3] != 'ENS':\n",
    "            entrez.append(int(e))\n",
    "        else:\n",
    "            entrez.append(e)\n",
    "        "
   ]
  },
  {
   "cell_type": "code",
   "execution_count": 54,
   "metadata": {},
   "outputs": [
    {
     "data": {
      "text/plain": [
       "56638"
      ]
     },
     "execution_count": 54,
     "metadata": {},
     "output_type": "execute_result"
    }
   ],
   "source": [
    "from pyensembl import EnsemblRelease as ensbl\n",
    "import pandas as pd\n",
    "ensemble_version = 75\n",
    "data = ensbl(ensemble_version)\n",
    "genes = data.gene_names(contig=None, strand=None)\n",
    "pd.Series(genes)"
   ]
  },
  {
   "cell_type": "code",
   "execution_count": 55,
   "metadata": {},
   "outputs": [],
   "source": [
    "ensblID = mg.getgene(3507, fields='all',species = 'human')\n",
    "#ensblID\n",
    "#[u'ensembl'] [u'gene']"
   ]
  },
  {
   "cell_type": "code",
   "execution_count": null,
   "metadata": {},
   "outputs": [],
   "source": []
  },
  {
   "cell_type": "code",
   "execution_count": 56,
   "metadata": {},
   "outputs": [
    {
     "name": "stdout",
     "output_type": "stream",
     "text": [
      "STAT1\n",
      "[{u'name': u'signal transducer and activator of transcription 1', u'_score': 436.67938, u'symbol': u'STAT1', u'taxid': 9606, u'entrezgene': 6772, u'_id': u'6772'}, {u'name': u'MAGE family member H1', u'_score': 4.020084, u'symbol': u'MAGEH1', u'taxid': 9606, u'entrezgene': 28986, u'_id': u'28986'}, {u'name': u'interleukin 21 receptor', u'_score': 2.3991485, u'symbol': u'IL21R', u'taxid': 9606, u'entrezgene': 50615, u'_id': u'50615'}, {u'name': u'interferon alpha and beta receptor subunit 1', u'_score': 1.5724281, u'symbol': u'IFNAR1', u'taxid': 9606, u'entrezgene': 3454, u'_id': u'3454'}, {u'name': u'interferon alpha and beta receptor subunit 2', u'_score': 1.4328793, u'symbol': u'IFNAR2', u'taxid': 9606, u'entrezgene': 3455, u'_id': u'3455'}]\n",
      "warning: more than one mathch with STAT1\n",
      "gen id: 6772 was assumed\n"
     ]
    },
    {
     "ename": "ValueError",
     "evalue": "No results found for query:\n\n            SELECT distinct seqname, start, end, strand\n            FROM gene\n            WHERE gene_id = ?\n        \nwith parameters: [6772]",
     "output_type": "error",
     "traceback": [
      "\u001b[0;31m---------------------------------------------------------------------------\u001b[0m",
      "\u001b[0;31mValueError\u001b[0m                                Traceback (most recent call last)",
      "\u001b[0;32m<ipython-input-56-f72bbf5e4d17>\u001b[0m in \u001b[0;36m<module>\u001b[0;34m()\u001b[0m\n\u001b[1;32m     13\u001b[0m         \u001b[0;32mprint\u001b[0m \u001b[0;34m'warning: more than one mathch with %s'\u001b[0m\u001b[0;34m%\u001b[0m\u001b[0mgene\u001b[0m\u001b[0;34m\u001b[0m\u001b[0m\n\u001b[1;32m     14\u001b[0m         \u001b[0;32mprint\u001b[0m \u001b[0;34m'gen id: %s was assumed'\u001b[0m\u001b[0;34m%\u001b[0m\u001b[0mgid\u001b[0m\u001b[0;34m\u001b[0m\u001b[0m\n\u001b[0;32m---> 15\u001b[0;31m \u001b[0mloc\u001b[0m \u001b[0;34m=\u001b[0m  \u001b[0mdata\u001b[0m\u001b[0;34m.\u001b[0m\u001b[0mlocus_of_gene_id\u001b[0m\u001b[0;34m(\u001b[0m\u001b[0mgid\u001b[0m\u001b[0;34m)\u001b[0m\u001b[0;34m\u001b[0m\u001b[0m\n\u001b[0m\u001b[1;32m     16\u001b[0m \u001b[0mlocis\u001b[0m\u001b[0;34m.\u001b[0m\u001b[0mappend\u001b[0m\u001b[0;34m(\u001b[0m\u001b[0mloc\u001b[0m\u001b[0;34m[\u001b[0m\u001b[0;36m0\u001b[0m\u001b[0;34m]\u001b[0m\u001b[0;34m.\u001b[0m\u001b[0mto_dict\u001b[0m\u001b[0;34m(\u001b[0m\u001b[0;34m)\u001b[0m\u001b[0;34m)\u001b[0m\u001b[0;34m\u001b[0m\u001b[0m\n\u001b[1;32m     17\u001b[0m \u001b[0manalyzed_genes\u001b[0m\u001b[0;34m.\u001b[0m\u001b[0mappend\u001b[0m\u001b[0;34m(\u001b[0m\u001b[0mgene\u001b[0m\u001b[0;34m)\u001b[0m\u001b[0;34m\u001b[0m\u001b[0m\n",
      "\u001b[0;32m/usr/local/lib/python2.7/dist-packages/pyensembl/genome.pyc\u001b[0m in \u001b[0;36mlocus_of_gene_id\u001b[0;34m(self, gene_id)\u001b[0m\n\u001b[1;32m    551\u001b[0m             \u001b[0mfilter_column\u001b[0m\u001b[0;34m=\u001b[0m\u001b[0;34m\"gene_id\"\u001b[0m\u001b[0;34m,\u001b[0m\u001b[0;34m\u001b[0m\u001b[0m\n\u001b[1;32m    552\u001b[0m             \u001b[0mfilter_value\u001b[0m\u001b[0;34m=\u001b[0m\u001b[0mgene_id\u001b[0m\u001b[0;34m,\u001b[0m\u001b[0;34m\u001b[0m\u001b[0m\n\u001b[0;32m--> 553\u001b[0;31m             feature=\"gene\")\n\u001b[0m\u001b[1;32m    554\u001b[0m \u001b[0;34m\u001b[0m\u001b[0m\n\u001b[1;32m    555\u001b[0m     \u001b[0;32mdef\u001b[0m \u001b[0mloci_of_gene_names\u001b[0m\u001b[0;34m(\u001b[0m\u001b[0mself\u001b[0m\u001b[0;34m,\u001b[0m \u001b[0mgene_name\u001b[0m\u001b[0;34m)\u001b[0m\u001b[0;34m:\u001b[0m\u001b[0;34m\u001b[0m\u001b[0m\n",
      "\u001b[0;32m/usr/local/lib/python2.7/dist-packages/pyensembl/database.pyc\u001b[0m in \u001b[0;36mquery_locus\u001b[0;34m(self, filter_column, filter_value, feature)\u001b[0m\n\u001b[1;32m    589\u001b[0m             \u001b[0mfilter_column\u001b[0m\u001b[0;34m=\u001b[0m\u001b[0mfilter_column\u001b[0m\u001b[0;34m,\u001b[0m\u001b[0;34m\u001b[0m\u001b[0m\n\u001b[1;32m    590\u001b[0m             \u001b[0mfilter_value\u001b[0m\u001b[0;34m=\u001b[0m\u001b[0mfilter_value\u001b[0m\u001b[0;34m,\u001b[0m\u001b[0;34m\u001b[0m\u001b[0m\n\u001b[0;32m--> 591\u001b[0;31m             feature=feature)\n\u001b[0m\u001b[1;32m    592\u001b[0m \u001b[0;34m\u001b[0m\u001b[0m\n\u001b[1;32m    593\u001b[0m         \u001b[0;32mif\u001b[0m \u001b[0mlen\u001b[0m\u001b[0;34m(\u001b[0m\u001b[0mloci\u001b[0m\u001b[0;34m)\u001b[0m \u001b[0;34m==\u001b[0m \u001b[0;36m0\u001b[0m\u001b[0;34m:\u001b[0m\u001b[0;34m\u001b[0m\u001b[0m\n",
      "\u001b[0;32m/usr/local/lib/python2.7/dist-packages/pyensembl/database.pyc\u001b[0m in \u001b[0;36mquery_loci\u001b[0;34m(self, filter_column, filter_value, feature)\u001b[0m\n\u001b[1;32m    561\u001b[0m             \u001b[0mfeature\u001b[0m\u001b[0;34m=\u001b[0m\u001b[0mfeature\u001b[0m\u001b[0;34m,\u001b[0m\u001b[0;34m\u001b[0m\u001b[0m\n\u001b[1;32m    562\u001b[0m             \u001b[0mdistinct\u001b[0m\u001b[0;34m=\u001b[0m\u001b[0mTrue\u001b[0m\u001b[0;34m,\u001b[0m\u001b[0;34m\u001b[0m\u001b[0m\n\u001b[0;32m--> 563\u001b[0;31m             required=True)\n\u001b[0m\u001b[1;32m    564\u001b[0m         return [\n\u001b[1;32m    565\u001b[0m             \u001b[0mLocus\u001b[0m\u001b[0;34m(\u001b[0m\u001b[0mcontig\u001b[0m\u001b[0;34m,\u001b[0m \u001b[0mstart\u001b[0m\u001b[0;34m,\u001b[0m \u001b[0mend\u001b[0m\u001b[0;34m,\u001b[0m \u001b[0mstrand\u001b[0m\u001b[0;34m)\u001b[0m\u001b[0;34m\u001b[0m\u001b[0m\n",
      "\u001b[0;32m/usr/local/lib/python2.7/dist-packages/pyensembl/common.pyc\u001b[0m in \u001b[0;36mwrapped_fn\u001b[0;34m(*args, **kwargs)\u001b[0m\n\u001b[1;32m     65\u001b[0m             \u001b[0;32mreturn\u001b[0m \u001b[0mcache\u001b[0m\u001b[0;34m[\u001b[0m\u001b[0mcache_key\u001b[0m\u001b[0;34m]\u001b[0m\u001b[0;34m\u001b[0m\u001b[0m\n\u001b[1;32m     66\u001b[0m         \u001b[0;32mexcept\u001b[0m \u001b[0mKeyError\u001b[0m\u001b[0;34m:\u001b[0m\u001b[0;34m\u001b[0m\u001b[0m\n\u001b[0;32m---> 67\u001b[0;31m             \u001b[0mvalue\u001b[0m \u001b[0;34m=\u001b[0m \u001b[0mfn\u001b[0m\u001b[0;34m(\u001b[0m\u001b[0;34m*\u001b[0m\u001b[0margs\u001b[0m\u001b[0;34m,\u001b[0m \u001b[0;34m**\u001b[0m\u001b[0mkwargs\u001b[0m\u001b[0;34m)\u001b[0m\u001b[0;34m\u001b[0m\u001b[0m\n\u001b[0m\u001b[1;32m     68\u001b[0m             \u001b[0mcache\u001b[0m\u001b[0;34m[\u001b[0m\u001b[0mcache_key\u001b[0m\u001b[0;34m]\u001b[0m \u001b[0;34m=\u001b[0m \u001b[0mvalue\u001b[0m\u001b[0;34m\u001b[0m\u001b[0m\n\u001b[1;32m     69\u001b[0m             \u001b[0;32mreturn\u001b[0m \u001b[0mvalue\u001b[0m\u001b[0;34m\u001b[0m\u001b[0m\n",
      "\u001b[0;32m/usr/local/lib/python2.7/dist-packages/pyensembl/database.pyc\u001b[0m in \u001b[0;36mquery\u001b[0;34m(self, select_column_names, filter_column, filter_value, feature, distinct, required)\u001b[0m\n\u001b[1;32m    467\u001b[0m         \u001b[0mquery_params\u001b[0m \u001b[0;34m=\u001b[0m \u001b[0;34m[\u001b[0m\u001b[0mfilter_value\u001b[0m\u001b[0;34m]\u001b[0m\u001b[0;34m\u001b[0m\u001b[0m\n\u001b[1;32m    468\u001b[0m         return self.run_sql_query(\n\u001b[0;32m--> 469\u001b[0;31m             sql, required=required, query_params=query_params)\n\u001b[0m\u001b[1;32m    470\u001b[0m \u001b[0;34m\u001b[0m\u001b[0m\n\u001b[1;32m    471\u001b[0m     def query_one(\n",
      "\u001b[0;32m/usr/local/lib/python2.7/dist-packages/pyensembl/database.pyc\u001b[0m in \u001b[0;36mrun_sql_query\u001b[0;34m(self, sql, required, query_params)\u001b[0m\n\u001b[1;32m    440\u001b[0m             raise ValueError(\n\u001b[1;32m    441\u001b[0m                 \"No results found for query:\\n%s\\nwith parameters: %s\" % (\n\u001b[0;32m--> 442\u001b[0;31m                     sql, query_params))\n\u001b[0m\u001b[1;32m    443\u001b[0m \u001b[0;34m\u001b[0m\u001b[0m\n\u001b[1;32m    444\u001b[0m         \u001b[0;32mreturn\u001b[0m \u001b[0mresults\u001b[0m\u001b[0;34m\u001b[0m\u001b[0m\n",
      "\u001b[0;31mValueError\u001b[0m: No results found for query:\n\n            SELECT distinct seqname, start, end, strand\n            FROM gene\n            WHERE gene_id = ?\n        \nwith parameters: [6772]"
     ]
    }
   ],
   "source": [
    "gene = 'STAT1'`\n",
    "print gene\n",
    "mg = mygene.MyGeneInfo()\n",
    "gene_query = mg.query(gene, size=5,species = 'human')\n",
    "gids = gene_query['hits']\n",
    "print  gids\n",
    "if(len(gids)==0):\n",
    "    print 'warning, gene %s was not found and ignored'%gene \n",
    "#    continue\n",
    "else:\n",
    "    gid = int(gids[0][u'_id'])\n",
    "    if len(gids)>1:\n",
    "        print 'warning: more than one mathch with %s'%gene\n",
    "        print 'gen id: %s was assumed'%gid\n",
    "loc =  data.locus_of_gene_id(gid)\n",
    "locis.append(loc[0].to_dict())\n",
    "analyzed_genes.append(gene)\n"
   ]
  },
  {
   "cell_type": "code",
   "execution_count": 72,
   "metadata": {},
   "outputs": [
    {
     "data": {
      "text/plain": [
       "'IL10Ra'"
      ]
     },
     "execution_count": 72,
     "metadata": {},
     "output_type": "execute_result"
    }
   ],
   "source": [
    "#gene[2] =='-'\n",
    "gene2 = gene.replace('-', '')\n",
    "gene2#.replace('-', '')"
   ]
  },
  {
   "cell_type": "code",
   "execution_count": 40,
   "metadata": {},
   "outputs": [],
   "source": [
    "#%matplotlib inline\n",
    "#from matplotlib import pyplot as plt\n",
    "#histogr = pd.read_csv('./byposition.txt',sep = '\\t',header = None)\n",
    "#plt.scatter(histogr[6],histogr[7])\n",
    "#plt.scatter()"
   ]
  },
  {
   "cell_type": "code",
   "execution_count": 73,
   "metadata": {},
   "outputs": [],
   "source": [
    "data = ensbl(75)\n",
    "try:\n",
    "    data.loci_of_gene_names('STAT1')\n",
    "except ValueError:\n",
    "    print 'gen no encontrado'"
   ]
  },
  {
   "cell_type": "code",
   "execution_count": null,
   "metadata": {},
   "outputs": [],
   "source": [
    "exons = data.exon_ids_of_gene_id"
   ]
  },
  {
   "cell_type": "code",
   "execution_count": 81,
   "metadata": {},
   "outputs": [],
   "source": [
    "?data.locus_of_gene_id#(3559)"
   ]
  },
  {
   "cell_type": "code",
   "execution_count": 80,
   "metadata": {},
   "outputs": [],
   "source": [
    "import cherrypy"
   ]
  },
  {
   "cell_type": "code",
   "execution_count": 82,
   "metadata": {},
   "outputs": [],
   "source": [
    "from cherrypy._cpcompat import unquote"
   ]
  },
  {
   "cell_type": "code",
   "execution_count": null,
   "metadata": {},
   "outputs": [],
   "source": []
  }
 ],
 "metadata": {
  "kernelspec": {
   "display_name": "Python 2",
   "language": "python",
   "name": "python2"
  },
  "language_info": {
   "codemirror_mode": {
    "name": "ipython",
    "version": 2
   },
   "file_extension": ".py",
   "mimetype": "text/x-python",
   "name": "python",
   "nbconvert_exporter": "python",
   "pygments_lexer": "ipython2",
   "version": "2.7.12"
  }
 },
 "nbformat": 4,
 "nbformat_minor": 2
}
