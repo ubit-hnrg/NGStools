{
 "cells": [
  {
   "cell_type": "code",
   "execution_count": 3,
   "metadata": {},
   "outputs": [],
   "source": [
    "import pandas as pd\n",
    "\n",
    "# grep -v \"^#\" CEDIE1A.vcf | awk '{if ($2 > 10) print $1, $2, $2+1;  else print $1, 0, $2+1; }' |tr ' ' '\\t' > CEDIE1A.vcf.bed\n",
    "#run = 'coverageBed -a CEDIE1A.vcf.bed -b ~/Dropbox/UBIT/casos/caso1BZ/agilent_region.bed >testcov.tsv'\n",
    "#os.system(run)\n",
    "coverage = pd.read_table('/home/ariel/Projects/Gutierrez/CEDIE/201803/vcfs/testcov.tsv',header = None)"
   ]
  },
  {
   "cell_type": "code",
   "execution_count": 16,
   "metadata": {},
   "outputs": [
    {
     "data": {
      "text/plain": [
       "0.0    563226\n",
       "1.0     55319\n",
       "Name: 6, dtype: int64"
      ]
     },
     "execution_count": 16,
     "metadata": {},
     "output_type": "execute_result"
    }
   ],
   "source": [
    "coverage.ix[:,6].value_counts()"
   ]
  },
  {
   "cell_type": "code",
   "execution_count": 17,
   "metadata": {},
   "outputs": [],
   "source": [
    "from pyensembl import EnsemblRelease as ensbl\n",
    "ensemble_version = 75\n",
    "data = ensbl(ensemble_version)\n"
   ]
  },
  {
   "cell_type": "code",
   "execution_count": 52,
   "metadata": {},
   "outputs": [
    {
     "name": "stdout",
     "output_type": "stream",
     "text": [
      "[56602]\n"
     ]
    }
   ],
   "source": [
    "def get_bed_locus_info_from_gene_name(gene):\n",
    "    exon = data.exon_ids_of_gene_name('STAT1')\n",
    "    exonLocus = [data.locus_of_exon_id(e) for e in exon]\n",
    "\n",
    "    elen =  [(e.to_dict()['start'],e.to_dict()['end']) for e in exonLocus]\n",
    "\n",
    "    whole_gen = data.loci_of_gene_names('STAT1')\n",
    "    whole_gen_len = [whole_gen[0].to_dict()['end']-whole_gen[0].to_dict()['start']]\n"
   ]
  },
  {
   "cell_type": "code",
   "execution_count": 86,
   "metadata": {},
   "outputs": [
    {
     "name": "stderr",
     "output_type": "stream",
     "text": [
      "ERROR:root:Line magic function `%del` not found.\n"
     ]
    }
   ],
   "source": [
    "#get_locis(['STAT1','STAT4'],ref = 37,outpath='./',write_bedfile=True)\n",
    "%del gen"
   ]
  },
  {
   "cell_type": "code",
   "execution_count": null,
   "metadata": {},
   "outputs": [],
   "source": [
    "def get_locis(genelist,ref,outpath,write_bedfile = True):\n",
    "    analyzed_genes = []\n",
    "    try:\n",
    "        if (ref == 37)|(ref == 19):\n",
    "            ensemble_version = 75\n",
    "    except:\n",
    "        'You must to install the ensemble version 75, please run \\n'        \n",
    "        'pyensembl install --release 75 --species homo_sapiens \\n'\n",
    "    try:\n",
    "        if ref == 38:\n",
    "            ensemble_version = 87\n",
    "    except:\n",
    "        'You must to install latest ensemble version (87), please run \\n'        \n",
    "        'pyensembl install --release 87 --species homo_sapiens \\n'\n",
    "        \n",
    "    data = ensbl(ensemble_version)\n",
    "\n",
    "    ############ By the whole Gene #############\n",
    "    locis = []\n",
    "    for gen in genelist:\n",
    "        try:\n",
    "            loc =  data.loci_of_gene_names(gen)\n",
    "            locis.append(loc[0].to_dict())\n",
    "            analyzed_genes.append(gen)\n",
    "        except:\n",
    "            print 'warning, gen %s was not found and ignored'%gen\n",
    "#    return pd.concat(locis)\n",
    "    print '\\n'\n",
    "    ggenes = analyzed_genes\n",
    "    \n",
    "    locis = pd.DataFrame(locis)\n",
    "    locis['name'] = ggenes\n",
    "    locis.rename(columns = {'contig':'chrom'},inplace = True)\n",
    "    locis['score'] = 0 ## this is only for completness, in order to recognize strand as the right next field\n",
    "    locis = locis[['chrom','start','end','name','score','strand']]\n",
    "    \n",
    "    # write file\n",
    "    bedfile = outpath+'gene_loci.bed'\n",
    "    if write_bedfile:\n",
    "        locis.to_csv(bedfile,sep = '\\t',index = False,header = None)    \n",
    "        \n",
    "    return locis, bedfile, locis.columns\n"
   ]
  },
  {
   "cell_type": "code",
   "execution_count": 103,
   "metadata": {},
   "outputs": [],
   "source": [
    "def get_exons(genelist,ref,outpath,write_bedfile = True):\n",
    "    analyzed_genes = []\n",
    "    try:\n",
    "        if (ref == 37)|(ref == 19):\n",
    "            ensemble_version = 75\n",
    "    except:\n",
    "        'You must to install the ensemble version 75, please run \\n'        \n",
    "        'pyensembl install --release 75 --species homo_sapiens \\n'\n",
    "    try:\n",
    "        if ref == 38:\n",
    "            ensemble_version = 87\n",
    "    except:\n",
    "        'You must to install latest ensemble version (87), please run \\n'        \n",
    "        'pyensembl install --release 87 --species homo_sapiens \\n'\n",
    "        \n",
    "    data = ensbl(ensemble_version)\n",
    "    ############ By Exons #############\n",
    "    exonbed = []\n",
    "    for gene in genelist:\n",
    "        print gene\n",
    "        try:\n",
    "            exons = data.exon_ids_of_gene_name(gene)\n",
    "            exonLocus = [data.locus_of_exon_id(e) for e in exons]\n",
    "            exonLoci = [ex.to_dict() for ex in exonLocus]\n",
    "            exonLoci = pd.DataFrame(exonLoci)\n",
    "            exonLoci['name'] = exons\n",
    "            exonLoci['gene'] = [gene]*len(exons)\n",
    "            exonLoci.rename(columns = {'contig':'chrom'},inplace = True)\n",
    "            exonLoci['score'] = 0 ## this is only for completness, in order to recognize strand as the right next field\n",
    "            exonLoci = exonLoci[['chrom','start','end','name','score','strand','gene']]\n",
    "            exonbed.append(exonLoci)\n",
    "            analyzed_genes.append(gen)\n",
    "        except:\n",
    "            print 'warning, gene %s was not found and ignored'%gene\n",
    "#    return pd.concat(locis)\n",
    "    print '\\n'\n",
    "    exonbed = pd.concat(exonbed)\n",
    "    \n",
    "    # write file\n",
    "    exonbedfile = outpath+'exons_loci.bed'\n",
    "\n",
    "    if write_bedfile:\n",
    "        exonbed.to_csv(exonbedfile,sep = '\\t',index = False,header = None)\n",
    "    \n",
    "        \n",
    "    return exonbed, exonbedfile, exonbed.columns\n",
    "\n",
    "    \n"
   ]
  },
  {
   "cell_type": "code",
   "execution_count": 104,
   "metadata": {},
   "outputs": [
    {
     "name": "stdout",
     "output_type": "stream",
     "text": [
      "warning, gene STAT1 was not found and ignored\n",
      "warning, gene STAT4 was not found and ignored\n",
      "\n",
      "\n"
     ]
    }
   ],
   "source": [
    "bed, bedfile, columns = get_exons(['STAT1','STAT4'],ref = 37,outpath='./',write_bedfile=True)"
   ]
  },
  {
   "cell_type": "code",
   "execution_count": 102,
   "metadata": {},
   "outputs": [],
   "source": [
    "del bed"
   ]
  },
  {
   "cell_type": "code",
   "execution_count": null,
   "metadata": {},
   "outputs": [],
   "source": []
  }
 ],
 "metadata": {
  "kernelspec": {
   "display_name": "Python 2",
   "language": "python",
   "name": "python2"
  },
  "language_info": {
   "codemirror_mode": {
    "name": "ipython",
    "version": 2
   },
   "file_extension": ".py",
   "mimetype": "text/x-python",
   "name": "python",
   "nbconvert_exporter": "python",
   "pygments_lexer": "ipython2",
   "version": "2.7.12"
  }
 },
 "nbformat": 4,
 "nbformat_minor": 2
}
